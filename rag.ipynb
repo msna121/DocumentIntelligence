{
 "cells": [
  {
   "cell_type": "code",
   "execution_count": null,
   "metadata": {},
   "outputs": [],
   "source": [
    "!yum install poppler-utils tesseract-ocr libmagic-dev"
   ]
  },
  {
   "cell_type": "code",
   "execution_count": null,
   "metadata": {},
   "outputs": [],
   "source": [
    "%pip install -Uq \"unstructured[all-docs]\" pillow lxml pillow\n",
    "%pip install -Uq chromadb tiktoken\n",
    "%pip install -Uq langchain langchain-community langchain-openai langchain-groq\n",
    "%pip install -Uq python_dotenv"
   ]
  },
  {
   "cell_type": "code",
   "execution_count": 2,
   "metadata": {},
   "outputs": [
    {
     "data": {
      "text/plain": [
       "True"
      ]
     },
     "execution_count": 2,
     "metadata": {},
     "output_type": "execute_result"
    }
   ],
   "source": [
    "from dotenv import load_dotenv, find_dotenv\n",
    "import os\n",
    "\n",
    "load_dotenv(find_dotenv())\n",
    "\n",
    "# OPENAI_API_KEY = os.getenv('OPENAI_API_KEY')\n",
    "# GROQ_API_KEY = os.getenv('GROQ_API_KEY')\n",
    "# LANGCHAIN_API_KEY = os.getenv('LANGCHAIN_API_KEY')\n",
    "# LANGCHAIN_TRACING_V2 = \"true\""
   ]
  },
  {
   "cell_type": "code",
   "execution_count": 1,
   "metadata": {},
   "outputs": [
    {
     "name": "stderr",
     "output_type": "stream",
     "text": [
      "/usr/local/python/3.12.1/lib/python3.12/site-packages/tqdm/auto.py:21: TqdmWarning: IProgress not found. Please update jupyter and ipywidgets. See https://ipywidgets.readthedocs.io/en/stable/user_install.html\n",
      "  from .autonotebook import tqdm as notebook_tqdm\n"
     ]
    }
   ],
   "source": [
    "import torch \n",
    "import torchvision"
   ]
  },
  {
   "cell_type": "code",
   "execution_count": 3,
   "metadata": {},
   "outputs": [],
   "source": [
    "from unstructured.partition.pdf import partition_pdf\n",
    "\n",
    "output_path = \"./pdf/\"\n",
    "file_path = output_path + 'attention_is_all_you_need.pdf'\n",
    "\n",
    "# Reference: https://docs.unstructured.io/open-source/core-functionality/chunking\n",
    "chunks = partition_pdf(\n",
    "    filename=file_path,\n",
    "    infer_table_structure=True,            # extract tables\n",
    "    strategy=\"hi_res\",                     # mandatory to infer tables\n",
    "\n",
    "    extract_image_block_types=[\"Image\"],   # Add 'Table' to list to extract image of tables\n",
    "    # image_output_dir_path=output_path,   # if None, images and tables will saved in base64\n",
    "\n",
    "    extract_image_block_to_payload=True,   # if true, will extract base64 for API usage\n",
    "\n",
    "    chunking_strategy=\"by_title\",          # or 'basic'\n",
    "    max_characters=10000,                  # defaults to 500\n",
    "    combine_text_under_n_chars=2000,       # defaults to 0\n",
    "    new_after_n_chars=6000,\n",
    "\n",
    "    # extract_images_in_pdf=True,          # deprecated\n",
    ")\n",
    "\n",
    "\n",
    "# chunks = partition_pdf(\n",
    "#     filename=file_path,                  # mandatory\n",
    "#     strategy=\"hi_res\",                                     # mandatory to use ``hi_res`` strategy\n",
    "#     extract_images_in_pdf=True,                            # mandatory to set as ``True``\n",
    "#     extract_image_block_types=[\"Image\"],          # optional\n",
    "#     extract_image_block_to_payload=False,                  # optional\n",
    "#     extract_image_block_output_dir=\"path/to/save/images\",  # optional - only works when ``extract_image_block_to_payload=False``\n",
    "#     )\n",
    "# partition_pdf(\n",
    "#     filename=file_path,\n",
    "#     infer_table_structure=True,            # extract tables\n",
    "#     strategy=\"hi_res\",                     # mandatory to infer tables\n",
    "\n",
    "#     extract_image_block_types=[\"Image\"],   # Add 'Table' to list to extract image of tables\n",
    "#     # image_output_dir_path=output_path,   # if None, images and tables will saved in base64\n",
    "\n",
    "#     extract_image_block_to_payload=True,   # if true, will extract base64 for API usage\n",
    "\n",
    "#     chunking_strategy=\"by_title\",          # or 'basic'\n",
    "#     max_characters=10000,                  # defaults to 500\n",
    "#     combine_text_under_n_chars=2000,       # defaults to 0\n",
    "#     new_after_n_chars=6000,\n",
    "\n",
    "#     # extract_images_in_pdf=True,          # deprecated\n",
    "# )"
   ]
  },
  {
   "cell_type": "code",
   "execution_count": 5,
   "metadata": {},
   "outputs": [
    {
     "data": {
      "text/plain": [
       "{\"<class 'unstructured.documents.elements.CompositeElement'>\"}"
      ]
     },
     "execution_count": 5,
     "metadata": {},
     "output_type": "execute_result"
    }
   ],
   "source": [
    "# We get 2 types of elements from the partition_pdf function\n",
    "set([str(type(el)) for el in chunks])"
   ]
  },
  {
   "cell_type": "code",
   "execution_count": 8,
   "metadata": {},
   "outputs": [
    {
     "data": {
      "text/plain": [
       "11"
      ]
     },
     "execution_count": 8,
     "metadata": {},
     "output_type": "execute_result"
    }
   ],
   "source": [
    "len(chunks)"
   ]
  },
  {
   "cell_type": "code",
   "execution_count": 6,
   "metadata": {},
   "outputs": [
    {
     "data": {
      "text/plain": [
       "[<unstructured.documents.elements.Title at 0x750b1e03e300>,\n",
       " <unstructured.documents.elements.NarrativeText at 0x750b1e03f590>,\n",
       " <unstructured.documents.elements.NarrativeText at 0x750b1e03cf50>,\n",
       " <unstructured.documents.elements.Text at 0x750b1dfd4fe0>,\n",
       " <unstructured.documents.elements.NarrativeText at 0x750b1e162180>,\n",
       " <unstructured.documents.elements.Formula at 0x750b1e0978c0>,\n",
       " <unstructured.documents.elements.NarrativeText at 0x750b1e0965d0>,\n",
       " <unstructured.documents.elements.NarrativeText at 0x750b1e094860>,\n",
       " <unstructured.documents.elements.Title at 0x750b1e097e90>,\n",
       " <unstructured.documents.elements.NarrativeText at 0x750b1be2d220>,\n",
       " <unstructured.documents.elements.ListItem at 0x750b1be2cc80>,\n",
       " <unstructured.documents.elements.ListItem at 0x750b1be2ec90>,\n",
       " <unstructured.documents.elements.ListItem at 0x750b1be2d7c0>]"
      ]
     },
     "execution_count": 6,
     "metadata": {},
     "output_type": "execute_result"
    }
   ],
   "source": [
    "# Each CompositeElement containes a bunch of related elements.\n",
    "# This makes it easy to use these elements together in a RAG pipeline.\n",
    "\n",
    "chunks[3].metadata.orig_elements"
   ]
  },
  {
   "cell_type": "code",
   "execution_count": 7,
   "metadata": {},
   "outputs": [
    {
     "ename": "IndexError",
     "evalue": "list index out of range",
     "output_type": "error",
     "traceback": [
      "\u001b[0;31m---------------------------------------------------------------------------\u001b[0m",
      "\u001b[0;31mIndexError\u001b[0m                                Traceback (most recent call last)",
      "Cell \u001b[0;32mIn[7], line 6\u001b[0m\n\u001b[1;32m      4\u001b[0m elements \u001b[38;5;241m=\u001b[39m chunks[\u001b[38;5;241m3\u001b[39m]\u001b[38;5;241m.\u001b[39mmetadata\u001b[38;5;241m.\u001b[39morig_elements\n\u001b[1;32m      5\u001b[0m chunk_images \u001b[38;5;241m=\u001b[39m [el \u001b[38;5;28;01mfor\u001b[39;00m el \u001b[38;5;129;01min\u001b[39;00m elements \u001b[38;5;28;01mif\u001b[39;00m \u001b[38;5;124m'\u001b[39m\u001b[38;5;124mImage\u001b[39m\u001b[38;5;124m'\u001b[39m \u001b[38;5;129;01min\u001b[39;00m \u001b[38;5;28mstr\u001b[39m(\u001b[38;5;28mtype\u001b[39m(el))]\n\u001b[0;32m----> 6\u001b[0m \u001b[43mchunk_images\u001b[49m\u001b[43m[\u001b[49m\u001b[38;5;241;43m0\u001b[39;49m\u001b[43m]\u001b[49m\u001b[38;5;241m.\u001b[39mto_dict()\n",
      "\u001b[0;31mIndexError\u001b[0m: list index out of range"
     ]
    }
   ],
   "source": [
    "# This is what an extracted image looks like.\n",
    "# It contains the base64 representation only because we set the param extract_image_block_to_payload=True\n",
    "\n",
    "elements = chunks[3].metadata.orig_elements\n",
    "chunk_images = [el for el in elements if 'Image' in str(type(el))]\n",
    "chunk_images[0].to_dict()"
   ]
  },
  {
   "cell_type": "code",
   "execution_count": null,
   "metadata": {},
   "outputs": [],
   "source": []
  },
  {
   "cell_type": "code",
   "execution_count": null,
   "metadata": {},
   "outputs": [],
   "source": []
  },
  {
   "cell_type": "code",
   "execution_count": null,
   "metadata": {},
   "outputs": [],
   "source": []
  },
  {
   "cell_type": "code",
   "execution_count": null,
   "metadata": {},
   "outputs": [],
   "source": []
  }
 ],
 "metadata": {
  "kernelspec": {
   "display_name": "Python 3",
   "language": "python",
   "name": "python3"
  },
  "language_info": {
   "codemirror_mode": {
    "name": "ipython",
    "version": 3
   },
   "file_extension": ".py",
   "mimetype": "text/x-python",
   "name": "python",
   "nbconvert_exporter": "python",
   "pygments_lexer": "ipython3",
   "version": "3.12.1"
  }
 },
 "nbformat": 4,
 "nbformat_minor": 2
}
